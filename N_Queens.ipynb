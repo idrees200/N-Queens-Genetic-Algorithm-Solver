{
  "nbformat": 4,
  "nbformat_minor": 0,
  "metadata": {
    "colab": {
      "provenance": []
    },
    "kernelspec": {
      "name": "python3",
      "display_name": "Python 3"
    },
    "language_info": {
      "name": "python"
    }
  },
  "cells": [
    {
      "cell_type": "code",
      "source": [
        "import random"
      ],
      "metadata": {
        "id": "oK7on7SuC4Vo"
      },
      "execution_count": null,
      "outputs": []
    },
    {
      "cell_type": "code",
      "execution_count": null,
      "metadata": {
        "id": "1hS-LyWn9TUm"
      },
      "outputs": [],
      "source": [
        "class NQueensGeneticAlgorithm:\n",
        "    def __init__(self, board_size, population_size=100, generations=1000, mutation_rate=0.05):\n",
        "        self.board_size = board_size\n",
        "        self.population_size = population_size\n",
        "        self.generations = generations\n",
        "        self.mutation_rate = mutation_rate\n",
        "    def initialize_population(self):\n",
        "        population = []\n",
        "        for _ in range(self.population_size):\n",
        "            individual = list(range(self.board_size))\n",
        "            random.shuffle(individual)\n",
        "            population.append(individual)\n",
        "        return population\n",
        "    def fitness(self, individual):\n",
        "        clashes = 0\n",
        "        for i in range(self.board_size):\n",
        "            for j in range(i + 1, self.board_size):\n",
        "                if abs(i - j) == abs(individual[i] - individual[j]):\n",
        "                    clashes += 1\n",
        "        return 1 / (clashes + 1)\n",
        "    def selection(self, population):\n",
        "        return random.choices(population, k=self.population_size, weights=[self.fitness(individual) for individual in population])\n",
        "    def crossover(self, parent1, parent2):\n",
        "        crossover_point = random.randint(1, self.board_size - 1)\n",
        "        child1 = parent1[:crossover_point] + [gene for gene in parent2 if gene not in parent1[:crossover_point]]\n",
        "        child2 = parent2[:crossover_point] + [gene for gene in parent1 if gene not in parent2[:crossover_point]]\n",
        "        return child1, child2\n",
        "    def mutation(self, individual):\n",
        "        for i in range(self.board_size):\n",
        "            if random.random() < self.mutation_rate:\n",
        "                j = random.randint(0, self.board_size - 1)\n",
        "                individual[i], individual[j] = individual[j], individual[i]\n",
        "    def elitism(self, population):\n",
        "        population.sort(key=self.fitness, reverse=True)\n",
        "        return population[:self.population_size // 2]\n",
        "    def solve(self):\n",
        "        population = self.initialize_population()\n",
        "        for _ in range(self.generations):\n",
        "            selected_population = self.selection(population)\n",
        "            new_population = self.elitism(selected_population)\n",
        "            while len(new_population) < self.population_size:\n",
        "                parent1, parent2 = random.sample(selected_population, 2)\n",
        "                child1, child2 = self.crossover(parent1, parent2)\n",
        "                self.mutation(child1)\n",
        "                self.mutation(child2)\n",
        "                new_population.extend([child1, child2])\n",
        "            population = new_population[:self.population_size]\n",
        "        return max(population, key=self.fitness)\n"
      ]
    },
    {
      "cell_type": "code",
      "source": [
        "def print_board(solution):\n",
        "    board = [['.' for _ in range(len(solution))] for _ in range(len(solution))]\n",
        "    for i, col in enumerate(solution):\n",
        "        board[col][i] = 'Q'\n",
        "    for row in board:\n",
        "        print(' '.join(row))"
      ],
      "metadata": {
        "id": "deAQWqNgFMDC"
      },
      "execution_count": null,
      "outputs": []
    },
    {
      "cell_type": "code",
      "source": [
        "board_size = 8\n",
        "genetic_solver = NQueensGeneticAlgorithm(board_size)\n",
        "solution = genetic_solver.solve()"
      ],
      "metadata": {
        "id": "8FMIYVfnFOZx"
      },
      "execution_count": null,
      "outputs": []
    },
    {
      "cell_type": "code",
      "source": [
        "print(\"Solution:\")\n",
        "print_board(solution)\n"
      ],
      "metadata": {
        "colab": {
          "base_uri": "https://localhost:8080/"
        },
        "id": "8eLwLSzFEx8E",
        "outputId": "cbf32216-84b4-413a-cec6-0bb9f3e95fbd"
      },
      "execution_count": null,
      "outputs": [
        {
          "output_type": "stream",
          "name": "stdout",
          "text": [
            "Solution:\n",
            ". . . . . . Q .\n",
            ". Q . . . . . .\n",
            ". . . Q . . . .\n",
            "Q . . . . . . .\n",
            ". . . . . . . Q\n",
            ". . . . Q . . .\n",
            ". . Q . . . . .\n",
            ". . . . . Q . .\n"
          ]
        }
      ]
    }
  ]
}